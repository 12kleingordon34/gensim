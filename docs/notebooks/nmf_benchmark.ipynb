{
 "cells": [
  {
   "cell_type": "markdown",
   "metadata": {},
   "source": [
    "# Comparison between sklearn's and gensim's implementations of NMF"
   ]
  },
  {
   "cell_type": "code",
   "execution_count": 1,
   "metadata": {},
   "outputs": [],
   "source": [
    "from gensim.models.nmf import NMF as GensimNmf\n",
    "from gensim.parsing.preprocessing import preprocess_documents\n",
    "from sklearn.decomposition.nmf import NMF as SklearnNmf\n",
    "from sklearn.datasets import fetch_20newsgroups\n",
    "from sklearn.feature_extraction.text import CountVectorizer\n",
    "import numpy as np\n",
    "from matplotlib import pyplot as plt"
   ]
  },
  {
   "cell_type": "markdown",
   "metadata": {},
   "source": [
    "# 20newsgroups"
   ]
  },
  {
   "cell_type": "code",
   "execution_count": 2,
   "metadata": {},
   "outputs": [],
   "source": [
    "vectorizer = CountVectorizer()"
   ]
  },
  {
   "cell_type": "code",
   "execution_count": 3,
   "metadata": {},
   "outputs": [],
   "source": [
    "bow_matrix = vectorizer.fit_transform(fetch_20newsgroups().data)\n",
    "bow_matrix = bow_matrix.todense()[:100]"
   ]
  },
  {
   "cell_type": "markdown",
   "metadata": {},
   "source": [
    "## Sklearn NMF"
   ]
  },
  {
   "cell_type": "code",
   "execution_count": 4,
   "metadata": {},
   "outputs": [
    {
     "name": "stdout",
     "output_type": "stream",
     "text": [
      "CPU times: user 1min 6s, sys: 2.62 s, total: 1min 8s\n",
      "Wall time: 1min 26s\n"
     ]
    }
   ],
   "source": [
    "%%time\n",
    "\n",
    "sklearn_nmf = SklearnNmf(n_components=5, tol=1e-5, max_iter=int(1e9))\n",
    "\n",
    "W = sklearn_nmf.fit_transform(bow_matrix)\n",
    "H = sklearn_nmf.components_"
   ]
  },
  {
   "cell_type": "code",
   "execution_count": 5,
   "metadata": {},
   "outputs": [
    {
     "data": {
      "text/plain": [
       "184.4018340532723"
      ]
     },
     "execution_count": 5,
     "metadata": {},
     "output_type": "execute_result"
    }
   ],
   "source": [
    "np.linalg.norm(bow_matrix - W.dot(H), 'fro')"
   ]
  },
  {
   "cell_type": "markdown",
   "metadata": {},
   "source": [
    "## Gensim NMF"
   ]
  },
  {
   "cell_type": "markdown",
   "metadata": {},
   "source": [
    "### Batch size = 1:"
   ]
  },
  {
   "cell_type": "code",
   "execution_count": 6,
   "metadata": {},
   "outputs": [
    {
     "name": "stdout",
     "output_type": "stream",
     "text": [
      "Loss (no outliers): 0.038950696557992305\tLoss (with outliers): 0.038950696557992305\n",
      "Loss (no outliers): 12.374291063883145\tLoss (with outliers): 12.374291063883145\n",
      "Loss (no outliers): 5.156770519329132\tLoss (with outliers): 5.156770519329132\n",
      "Loss (no outliers): 11.101843628855159\tLoss (with outliers): 11.101843628855159\n",
      "Loss (no outliers): 8.05571876763995\tLoss (with outliers): 8.05571876763995\n",
      "Loss (no outliers): 20.937706770574415\tLoss (with outliers): 20.937706770574415\n",
      "Loss (no outliers): 9.203281161099605\tLoss (with outliers): 9.203281161099605\n",
      "Loss (no outliers): 34.42102791639135\tLoss (with outliers): 34.42102791639135\n",
      "Loss (no outliers): 7.452668767959762\tLoss (with outliers): 7.452668767959762\n",
      "Loss (no outliers): 17.234370934787727\tLoss (with outliers): 17.234370934787727\n",
      "Loss (no outliers): 9.469031763907571\tLoss (with outliers): 9.469031763907571\n",
      "Loss (no outliers): 35.79605592661074\tLoss (with outliers): 35.79605592661074\n",
      "Loss (no outliers): 9.930695094547113\tLoss (with outliers): 9.930695094547113\n",
      "Loss (no outliers): 23.855288672906674\tLoss (with outliers): 23.855288672906674\n",
      "Loss (no outliers): 16.001417025149202\tLoss (with outliers): 16.001417025149202\n",
      "Loss (no outliers): 9.55008601559361\tLoss (with outliers): 9.55008601559361\n",
      "Loss (no outliers): 13.841356680002415\tLoss (with outliers): 13.841356680002415\n",
      "Loss (no outliers): 40.85065510536875\tLoss (with outliers): 40.85065510536875\n",
      "Loss (no outliers): 12.744652326027799\tLoss (with outliers): 12.744652326027799\n",
      "Loss (no outliers): 10.468451179150998\tLoss (with outliers): 10.468451179150998\n",
      "Loss (no outliers): 9.5111665456581\tLoss (with outliers): 9.5111665456581\n",
      "Loss (no outliers): 12.413725782917547\tLoss (with outliers): 12.413725782917547\n",
      "Loss (no outliers): 18.459567068009346\tLoss (with outliers): 18.459567068009346\n",
      "Loss (no outliers): 12.0280406120951\tLoss (with outliers): 12.0280406120951\n",
      "Loss (no outliers): 7.495418633222251\tLoss (with outliers): 7.495418633222251\n",
      "Loss (no outliers): 12.178799686127398\tLoss (with outliers): 12.178799686127398\n",
      "Loss (no outliers): 26.09490848553246\tLoss (with outliers): 26.09490848553246\n",
      "Loss (no outliers): 7.382669029738084\tLoss (with outliers): 7.382669029738084\n",
      "Loss (no outliers): 20.18784940399544\tLoss (with outliers): 20.18784940399544\n",
      "Loss (no outliers): 8.195858194007734\tLoss (with outliers): 8.195858194007734\n",
      "Loss (no outliers): 19.073453244241126\tLoss (with outliers): 19.073453244241126\n",
      "Loss (no outliers): 11.015916035391722\tLoss (with outliers): 11.015916035391722\n",
      "Loss (no outliers): 6.117928220800243\tLoss (with outliers): 6.117928220800243\n",
      "Loss (no outliers): 24.481227357299467\tLoss (with outliers): 24.481227357299467\n",
      "Loss (no outliers): 8.079370229134362\tLoss (with outliers): 8.079370229134362\n",
      "Loss (no outliers): 11.075806135107728\tLoss (with outliers): 11.075806135107728\n",
      "Loss (no outliers): 9.425534564232073\tLoss (with outliers): 9.425534564232073\n",
      "Loss (no outliers): 19.333868563719932\tLoss (with outliers): 19.333868563719932\n",
      "Loss (no outliers): 12.822741250276753\tLoss (with outliers): 12.822741250276753\n",
      "Loss (no outliers): 30.37861173995577\tLoss (with outliers): 30.37861173995577\n",
      "Loss (no outliers): 12.512208273719633\tLoss (with outliers): 12.512208273719633\n",
      "Loss (no outliers): 7.567533810002475\tLoss (with outliers): 7.567533810002475\n",
      "Loss (no outliers): 7.06470567104734\tLoss (with outliers): 7.06470567104734\n",
      "Loss (no outliers): 32.290943231864574\tLoss (with outliers): 32.290943231864574\n",
      "Loss (no outliers): 15.053705449922923\tLoss (with outliers): 15.053705449922923\n",
      "Loss (no outliers): 8.317901684857246\tLoss (with outliers): 8.317901684857246\n",
      "Loss (no outliers): 6.416813778667191\tLoss (with outliers): 6.416813778667191\n",
      "Loss (no outliers): 15.64553528400279\tLoss (with outliers): 15.64553528400279\n",
      "Loss (no outliers): 9.243535219647907\tLoss (with outliers): 9.243535219647907\n",
      "Loss (no outliers): 12.334114487784525\tLoss (with outliers): 12.334114487784525\n",
      "Loss (no outliers): 12.449352795482557\tLoss (with outliers): 12.449352795482557\n",
      "Loss (no outliers): 13.07237485060571\tLoss (with outliers): 13.07237485060571\n",
      "Loss (no outliers): 8.62853400143313\tLoss (with outliers): 8.62853400143313\n",
      "Loss (no outliers): 15.022484950792576\tLoss (with outliers): 15.022484950792576\n",
      "Loss (no outliers): 24.20316004567587\tLoss (with outliers): 24.20316004567587\n",
      "Loss (no outliers): 10.926948214171357\tLoss (with outliers): 10.926948214171357\n",
      "Loss (no outliers): 21.04953591162799\tLoss (with outliers): 21.04953591162799\n",
      "Loss (no outliers): 8.105861676083574\tLoss (with outliers): 8.105861676083574\n",
      "Loss (no outliers): 8.991843019929233\tLoss (with outliers): 8.991843019929233\n",
      "Loss (no outliers): 79.39682275013223\tLoss (with outliers): 79.39682275013223\n",
      "Loss (no outliers): 10.356438700988457\tLoss (with outliers): 10.356438700988457\n",
      "Loss (no outliers): 12.470667599682885\tLoss (with outliers): 12.470667599682885\n",
      "Loss (no outliers): 10.097102365790596\tLoss (with outliers): 10.097102365790596\n",
      "Loss (no outliers): 6.242469380938351\tLoss (with outliers): 6.242469380938351\n",
      "Loss (no outliers): 9.267549639922377\tLoss (with outliers): 9.267549639922377\n",
      "Loss (no outliers): 25.806582648056143\tLoss (with outliers): 25.806582648056143\n",
      "Loss (no outliers): 14.691700011540236\tLoss (with outliers): 14.691700011540236\n",
      "Loss (no outliers): 17.462453816250207\tLoss (with outliers): 17.462453816250207\n",
      "Loss (no outliers): 26.80918366647814\tLoss (with outliers): 26.80918366647814\n",
      "Loss (no outliers): 13.605811890579686\tLoss (with outliers): 13.605811890579686\n",
      "Loss (no outliers): 93.04839048139912\tLoss (with outliers): 93.04839048139912\n",
      "Loss (no outliers): 18.547493239355923\tLoss (with outliers): 18.547493239355923\n",
      "Loss (no outliers): 11.40921862343962\tLoss (with outliers): 11.40921862343962\n",
      "Loss (no outliers): 12.004889733544003\tLoss (with outliers): 12.004889733544003\n",
      "Loss (no outliers): 15.672229862000012\tLoss (with outliers): 15.672229862000012\n",
      "Loss (no outliers): 10.7351376205454\tLoss (with outliers): 10.7351376205454\n",
      "Loss (no outliers): 15.280082804718022\tLoss (with outliers): 15.280082804718022\n",
      "Loss (no outliers): 13.34125963177601\tLoss (with outliers): 13.34125963177601\n",
      "Loss (no outliers): 8.31837844576086\tLoss (with outliers): 8.31837844576086\n",
      "Loss (no outliers): 16.439200214070663\tLoss (with outliers): 16.439200214070663\n",
      "Loss (no outliers): 44.56586798594561\tLoss (with outliers): 44.56586798594561\n",
      "Loss (no outliers): 13.148496990162915\tLoss (with outliers): 13.148496990162915\n",
      "Loss (no outliers): 29.46655498207862\tLoss (with outliers): 29.46655498207862\n",
      "Loss (no outliers): 10.16015553528117\tLoss (with outliers): 10.16015553528117\n",
      "Loss (no outliers): 12.54050298154768\tLoss (with outliers): 12.54050298154768\n",
      "Loss (no outliers): 12.180236965016617\tLoss (with outliers): 12.180236965016617\n",
      "Loss (no outliers): 19.632289551790386\tLoss (with outliers): 19.632289551790386\n",
      "Loss (no outliers): 13.660937279688838\tLoss (with outliers): 13.660937279688838\n",
      "Loss (no outliers): 13.264757151870135\tLoss (with outliers): 13.264757151870135\n",
      "Loss (no outliers): 5.580371878343957\tLoss (with outliers): 5.580371878343957\n",
      "Loss (no outliers): 11.29326706617692\tLoss (with outliers): 11.29326706617692\n",
      "Loss (no outliers): 22.816690860393603\tLoss (with outliers): 22.816690860393603\n",
      "Loss (no outliers): 10.29782214343046\tLoss (with outliers): 10.29782214343046\n",
      "Loss (no outliers): 25.793446317733512\tLoss (with outliers): 25.793446317733512\n",
      "Loss (no outliers): 8.654298239344161\tLoss (with outliers): 8.654298239344161\n",
      "Loss (no outliers): 10.21094842006212\tLoss (with outliers): 10.21094842006212\n",
      "Loss (no outliers): 37.70098456901404\tLoss (with outliers): 37.70098456901404\n",
      "Loss (no outliers): 9.598370318193728\tLoss (with outliers): 9.598370318193728\n",
      "Loss (no outliers): 9.705844803190418\tLoss (with outliers): 9.705844803190418\n",
      "Loss (no outliers): 9.343334233031726\tLoss (with outliers): 9.343334233031726\n",
      "CPU times: user 36.2 s, sys: 23 s, total: 59.2 s\n",
      "Wall time: 45.1 s\n"
     ]
    }
   ],
   "source": [
    "%%time\n",
    "\n",
    "gensim_nmf = GensimNmf(n_components=5, lambda_=10000, kappa=1.)\n",
    "\n",
    "n_samples = np.array(bow_matrix).shape[0]\n",
    "\n",
    "gensim_nmf.fit(np.array(bow_matrix))\n",
    "W, H = gensim_nmf.get_factor_matrices()\n",
    "H = gensim_nmf.transform(np.array(bow_matrix))"
   ]
  },
  {
   "cell_type": "code",
   "execution_count": 8,
   "metadata": {},
   "outputs": [
    {
     "data": {
      "text/plain": [
       "439.7319206635389"
      ]
     },
     "execution_count": 8,
     "metadata": {},
     "output_type": "execute_result"
    }
   ],
   "source": [
    "np.linalg.norm(bow_matrix.T - W.dot(H), 'fro')"
   ]
  },
  {
   "cell_type": "markdown",
   "metadata": {},
   "source": [
    "### Batch size = 10"
   ]
  },
  {
   "cell_type": "code",
   "execution_count": 10,
   "metadata": {},
   "outputs": [
    {
     "name": "stdout",
     "output_type": "stream",
     "text": [
      "Loss (no outliers): 50.345374071810774\tLoss (with outliers): 50.345374071810774\n",
      "Loss (no outliers): 77.12037088692298\tLoss (with outliers): 77.12037088692298\n",
      "Loss (no outliers): 49.35898441808472\tLoss (with outliers): 49.35898441808472\n",
      "Loss (no outliers): 57.737151111560266\tLoss (with outliers): 57.737151111560266\n",
      "Loss (no outliers): 39.81658588550212\tLoss (with outliers): 39.81658588550212\n",
      "Loss (no outliers): 56.47023038205962\tLoss (with outliers): 56.47023038205962\n",
      "Loss (no outliers): 47.951189976276545\tLoss (with outliers): 47.951189976276545\n",
      "Loss (no outliers): 52.93036062308141\tLoss (with outliers): 52.93036062308141\n",
      "Loss (no outliers): 60.82805880767195\tLoss (with outliers): 60.82805880767195\n",
      "Loss (no outliers): 47.751924123962816\tLoss (with outliers): 47.751924123962816\n",
      "CPU times: user 1min 33s, sys: 14.7 s, total: 1min 48s\n",
      "Wall time: 1min 58s\n"
     ]
    }
   ],
   "source": [
    "%%time\n",
    "\n",
    "gensim_nmf = GensimNmf(n_components=5, lambda_=10000, kappa=1.)\n",
    "\n",
    "n_samples = np.array(bow_matrix).shape[0]\n",
    "\n",
    "gensim_nmf.fit(np.array(bow_matrix), batch_size=10)\n",
    "W, H = gensim_nmf.get_factor_matrices()\n",
    "H = gensim_nmf.transform(np.array(bow_matrix))"
   ]
  },
  {
   "cell_type": "code",
   "execution_count": 11,
   "metadata": {},
   "outputs": [
    {
     "data": {
      "text/plain": [
       "235.55946506838575"
      ]
     },
     "execution_count": 11,
     "metadata": {},
     "output_type": "execute_result"
    }
   ],
   "source": [
    "np.linalg.norm(bow_matrix.T - W.dot(H), 'fro')"
   ]
  },
  {
   "cell_type": "markdown",
   "metadata": {},
   "source": [
    "From the personal experience I can say that the higher number of passes and shuffle of the trainset significantly improves performance.\n",
    "\n",
    "Then, of course, you should perform hyperparameter tuning."
   ]
  },
  {
   "cell_type": "markdown",
   "metadata": {},
   "source": [
    "# Image of stars\n",
    "### (For the sake of visualization of performance on sparse trainset)"
   ]
  },
  {
   "cell_type": "code",
   "execution_count": 16,
   "metadata": {},
   "outputs": [
    {
     "data": {
      "image/png": "[encoded data removed]",
      "text/plain": [
       "<PIL.Image.Image image mode=L size=256x183 at 0x7FA17AAC16D8>"
      ]
     },
     "execution_count": 16,
     "metadata": {},
     "output_type": "execute_result"
    }
   ],
   "source": [
    "from PIL import Image\n",
    "img = Image.open('stars_scaled.jpg').convert('L')\n",
    "img"
   ]
  },
  {
   "cell_type": "code",
   "execution_count": 17,
   "metadata": {},
   "outputs": [
    {
     "data": {
      "text/plain": [
       "(183, 256)"
      ]
     },
     "execution_count": 17,
     "metadata": {},
     "output_type": "execute_result"
    }
   ],
   "source": [
    "img_matrix = np.uint8(img.getdata()).reshape(img.size[::-1])\n",
    "img_matrix.shape"
   ]
  },
  {
   "cell_type": "markdown",
   "metadata": {},
   "source": [
    "## Sklearn NMF"
   ]
  },
  {
   "cell_type": "code",
   "execution_count": 18,
   "metadata": {},
   "outputs": [
    {
     "name": "stdout",
     "output_type": "stream",
     "text": [
      "CPU times: user 572 ms, sys: 153 ms, total: 725 ms\n",
      "Wall time: 882 ms\n"
     ]
    }
   ],
   "source": [
    "%%time\n",
    "\n",
    "sklearn_nmf = SklearnNmf(n_components=10, tol=1e-5, max_iter=int(1e9))\n",
    "\n",
    "W = sklearn_nmf.fit_transform(img_matrix)\n",
    "H = sklearn_nmf.components_"
   ]
  },
  {
   "cell_type": "code",
   "execution_count": 19,
   "metadata": {},
   "outputs": [
    {
     "data": {
      "image/png": "[encoded data removed]",
      "text/plain": [
       "<PIL.Image.Image image mode=L size=256x183 at 0x7FA17AAC1518>"
      ]
     },
     "execution_count": 19,
     "metadata": {},
     "output_type": "execute_result"
    }
   ],
   "source": [
    "Image.fromarray(np.uint8(W.dot(H)), 'L')"
   ]
  },
  {
   "cell_type": "markdown",
   "metadata": {},
   "source": [
    "## Gensim NMF"
   ]
  },
  {
   "cell_type": "code",
   "execution_count": 38,
   "metadata": {},
   "outputs": [
    {
     "name": "stdout",
     "output_type": "stream",
     "text": [
      "Loss (no outliers): 6847.244327624558\tLoss (with outliers): 6711.622125561542\n",
      "Loss (no outliers): 4356.246832173107\tLoss (with outliers): 4319.148378487362\n",
      "Loss (no outliers): 3816.763966395636\tLoss (with outliers): 3801.7012657135415\n",
      "Loss (no outliers): 3783.0229750875146\tLoss (with outliers): 3776.92928281768\n",
      "Loss (no outliers): 3538.6024345874425\tLoss (with outliers): 3534.493496826403\n",
      "Loss (no outliers): 3493.1545028663386\tLoss (with outliers): 3494.5782004996395\n",
      "Loss (no outliers): 3527.266991690135\tLoss (with outliers): 3530.389212896685\n",
      "Loss (no outliers): 3532.976701348588\tLoss (with outliers): 3540.374126706496\n",
      "Loss (no outliers): 3338.930054172826\tLoss (with outliers): 3340.5861231094664\n",
      "Loss (no outliers): 3272.141047105983\tLoss (with outliers): 3275.781551396264\n",
      "Loss (no outliers): 3448.207329027923\tLoss (with outliers): 3453.2536403398108\n",
      "Loss (no outliers): 3267.5239311568457\tLoss (with outliers): 3272.506192900864\n",
      "Loss (no outliers): 3331.8821100413943\tLoss (with outliers): 3337.9119031766822\n",
      "Loss (no outliers): 3266.9536910604515\tLoss (with outliers): 3270.029625972191\n",
      "Loss (no outliers): 3337.1160557256408\tLoss (with outliers): 3342.1074449994894\n",
      "Loss (no outliers): 3311.979105735641\tLoss (with outliers): 3314.97170241174\n",
      "Loss (no outliers): 3200.555995936755\tLoss (with outliers): 3201.7738917514953\n",
      "Loss (no outliers): 3369.379920355404\tLoss (with outliers): 3375.275282326241\n",
      "Loss (no outliers): 1575.6670968351984\tLoss (with outliers): 1575.8578834612426\n",
      "CPU times: user 31.9 s, sys: 199 ms, total: 32.1 s\n",
      "Wall time: 39.4 s\n"
     ]
    }
   ],
   "source": [
    "%%time\n",
    "\n",
    "import itertools\n",
    "\n",
    "passes = 10\n",
    "\n",
    "gensim_nmf = GensimNmf(n_components=10, lambda_=1000., kappa=1.)\n",
    "\n",
    "np.random.seed(42)\n",
    "\n",
    "trainset = itertools.chain.from_iterable(\n",
    "    img_matrix[np.random.choice(img_matrix.shape[0], img_matrix.shape[0], replace=False)] for _ in range(passes)\n",
    ")\n",
    "\n",
    "gensim_nmf.fit(trainset, batch_size=100)"
   ]
  },
  {
   "cell_type": "code",
   "execution_count": 39,
   "metadata": {},
   "outputs": [],
   "source": [
    "W, _ = gensim_nmf.get_factor_matrices()\n",
    "H, R = gensim_nmf.transform(img_matrix, return_r=True)"
   ]
  },
  {
   "cell_type": "markdown",
   "metadata": {},
   "source": [
    "### Reconstructed matrix:"
   ]
  },
  {
   "cell_type": "code",
   "execution_count": 40,
   "metadata": {},
   "outputs": [
    {
     "data": {
      "image/png": "[encoded data removed]",
      "text/plain": [
       "<PIL.Image.Image image mode=L size=256x183 at 0x7FA17AA431D0>"
      ]
     },
     "execution_count": 40,
     "metadata": {},
     "output_type": "execute_result"
    }
   ],
   "source": [
    "Image.fromarray(np.uint8(W.dot(H).T[-img_matrix.shape[0]:]), 'L')"
   ]
  },
  {
   "cell_type": "markdown",
   "metadata": {},
   "source": [
    "### Residuals:"
   ]
  },
  {
   "cell_type": "code",
   "execution_count": 41,
   "metadata": {},
   "outputs": [
    {
     "data": {
      "image/png": "[encoded data removed]",
      "text/plain": [
       "<PIL.Image.Image image mode=L size=256x183 at 0x7FA17AA44D68>"
      ]
     },
     "execution_count": 41,
     "metadata": {},
     "output_type": "execute_result"
    }
   ],
   "source": [
    "Image.fromarray(np.uint8(R.T), 'L')"
   ]
  },
  {
   "cell_type": "code",
   "execution_count": null,
   "metadata": {},
   "outputs": [],
   "source": []
  }
 ],
 "metadata": {
  "kernelspec": {
   "display_name": "Python 3",
   "language": "python",
   "name": "python3"
  },
  "language_info": {
   "codemirror_mode": {
    "name": "ipython",
    "version": 3
   },
   "file_extension": ".py",
   "mimetype": "text/x-python",
   "name": "python",
   "nbconvert_exporter": "python",
   "pygments_lexer": "ipython3",
   "version": "3.6.4"
  }
 },
 "nbformat": 4,
 "nbformat_minor": 2
}
